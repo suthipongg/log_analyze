{
 "cells": [
  {
   "cell_type": "code",
   "execution_count": 1,
   "metadata": {},
   "outputs": [],
   "source": [
    "import numpy as np\n",
    "import csv\n",
    "from pymavlink import DFReader\n",
    "from pathlib import Path"
   ]
  },
  {
   "cell_type": "code",
   "execution_count": 2,
   "metadata": {},
   "outputs": [],
   "source": [
    "path = \"Drone30LOutOfControl.bin\""
   ]
  },
  {
   "cell_type": "code",
   "execution_count": 16,
   "metadata": {},
   "outputs": [],
   "source": [
    "mlog = DFReader.DFReader_binary(path)\n",
    "match_types = list(mlog.name_to_id.keys())\n",
    "match_types.sort()\n",
    "match_types.remove('FMT')\n",
    "match_types.remove('UNIT')\n",
    "match_types.remove('FMTU')\n",
    "df_log = {}\n",
    "last_timestamp = None"
   ]
  },
  {
   "cell_type": "code",
   "execution_count": 17,
   "metadata": {},
   "outputs": [
    {
     "data": {
      "text/plain": [
       "\"\\n{'m_type' : {\\n            'Columns' : [col1, col2],\\n            'Values' : [\\n                [val11, val12, val13],\\n                [val21, val22, val23]\\n                ]\\n            }\\n}\\n\\n\""
      ]
     },
     "execution_count": 17,
     "metadata": {},
     "output_type": "execute_result"
    }
   ],
   "source": [
    "# save information to dict\n",
    "'''\n",
    "{'m_type' : {\n",
    "            'Columns' : [col1, col2],\n",
    "            'Values' : [\n",
    "                [val11, val12, val13],\n",
    "                [val21, val22, val23]\n",
    "                ]\n",
    "            }\n",
    "}\n",
    "\n",
    "'''\n",
    "\n",
    "while True:\n",
    "    m = mlog.recv_match(type=match_types)\n",
    "    if m is None:\n",
    "        break\n",
    "    timestamp = getattr(m, '_timestamp', 0.0)\n",
    "    data = m.to_dict()\n",
    "    m_type = m.get_type()\n",
    "    del data['mavpackettype']\n",
    "    data['timestamp'] = timestamp\n",
    "\n",
    "    if df_log.get(m_type) == None:\n",
    "        df_log[m_type] = {'Columns' : list(data.keys()), 'Values' : [list(data.values())]}\n",
    "    elif timestamp == last_timestamp:\n",
    "        df_log[m_type]['Values'][-1] = list(data.values())\n",
    "    else:\n",
    "        df_log[m_type]['Values'].append(list(data.values()))\n",
    "\n",
    "    last_timestamp = timestamp\n",
    "\n",
    "for msg in df_log.keys():\n",
    "    df_log[msg]['Values'] = np.array(df_log[msg]['Values'])"
   ]
  },
  {
   "cell_type": "code",
   "execution_count": 18,
   "metadata": {},
   "outputs": [],
   "source": [
    "# save each msg to data_csv directory in csv format\n",
    "path = Path(r\"data_csv\")\n",
    "for name in match_types:\n",
    "    if df_log.get(name) == None: continue\n",
    "    column = df_log[name]['Columns']\n",
    "    value = df_log[name]['Values']\n",
    "    with open(path / str(name + \".csv\"), 'w', newline='') as f:\n",
    "        write = csv.writer(f)\n",
    "        write.writerow(column)\n",
    "        write.writerows(value)"
   ]
  }
 ],
 "metadata": {
  "kernelspec": {
   "display_name": "Python 3",
   "language": "python",
   "name": "python3"
  },
  "language_info": {
   "codemirror_mode": {
    "name": "ipython",
    "version": 3
   },
   "file_extension": ".py",
   "mimetype": "text/x-python",
   "name": "python",
   "nbconvert_exporter": "python",
   "pygments_lexer": "ipython3",
   "version": "3.8.10 (tags/v3.8.10:3d8993a, May  3 2021, 11:48:03) [MSC v.1928 64 bit (AMD64)]"
  },
  "orig_nbformat": 4,
  "vscode": {
   "interpreter": {
    "hash": "2975ce78cb703cbf264356bf7333929784bf3b5ba3576048c471cb2932a2109e"
   }
  }
 },
 "nbformat": 4,
 "nbformat_minor": 2
}
